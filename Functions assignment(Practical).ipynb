{
 "cells": [
  {
   "cell_type": "code",
   "execution_count": 1,
   "metadata": {},
   "outputs": [],
   "source": [
    "# Functions assignment (Practical)"
   ]
  },
  {
   "cell_type": "code",
   "execution_count": 2,
   "metadata": {},
   "outputs": [],
   "source": [
    "# Q1 . Write a Python function that takes a list of numbers as input and returns the sum of all even numbers in the list.\n",
    "# Ans."
   ]
  },
  {
   "cell_type": "code",
   "execution_count": 3,
   "metadata": {},
   "outputs": [
    {
     "name": "stdout",
     "output_type": "stream",
     "text": [
      "12\n"
     ]
    }
   ],
   "source": [
    "def sum_of_even_numbers(numbers):\n",
    " return sum (num for num in numbers if num% 2 == 0)\n",
    "numbers = [1, 2, 3, 4, 5, 6]\n",
    "result= sum_of_even_numbers (numbers)\n",
    "print(result)"
   ]
  },
  {
   "cell_type": "code",
   "execution_count": 4,
   "metadata": {},
   "outputs": [
    {
     "name": "stdout",
     "output_type": "stream",
     "text": [
      "20\n"
     ]
    }
   ],
   "source": [
    "def sum_of_even_numbers(numbers):\n",
    " return sum(num for num in numbers if num% 2 == 0)\n",
    "numbers=[1,6,9,5,8,6]\n",
    "result=sum_of_even_numbers(numbers)\n",
    "print(result)\n"
   ]
  },
  {
   "cell_type": "code",
   "execution_count": 5,
   "metadata": {},
   "outputs": [],
   "source": [
    "#Q2. Create a Python function that accepts a string and returns the reverse of that string"
   ]
  },
  {
   "cell_type": "code",
   "execution_count": 16,
   "metadata": {},
   "outputs": [
    {
     "name": "stdout",
     "output_type": "stream",
     "text": [
      "dlrow olleH\n"
     ]
    }
   ],
   "source": [
    "def reverse_string(s):\n",
    "     return s[::-1]\n",
    "input_string =\"Hello world\"\n",
    "reverse_string= reverse_string(input_string)\n",
    "print (reverse_string)"
   ]
  },
  {
   "cell_type": "code",
   "execution_count": 17,
   "metadata": {},
   "outputs": [
    {
     "name": "stdout",
     "output_type": "stream",
     "text": [
      "ahskitrP\n"
     ]
    }
   ],
   "source": [
    "def reverse_string(s):\n",
    "    return s[::-1]\n",
    "s= \"Prtiksha\"\n",
    "reverse_string= reverse_string(s)\n",
    "print(reverse_string)\n"
   ]
  },
  {
   "cell_type": "code",
   "execution_count": 18,
   "metadata": {},
   "outputs": [
    {
     "name": "stdout",
     "output_type": "stream",
     "text": [
      "maR iiH\n"
     ]
    }
   ],
   "source": [
    "def reverse_string(s):\n",
    "    return s[::-1]\n",
    "s= \"Hii Ram\"\n",
    "result= reverse_string(s)\n",
    "print(result)"
   ]
  },
  {
   "cell_type": "code",
   "execution_count": 19,
   "metadata": {},
   "outputs": [],
   "source": [
    "#Q 3Implement a Python function that takes a list of integers and returns a new list containing the squares of each number\n"
   ]
  },
  {
   "cell_type": "code",
   "execution_count": 25,
   "metadata": {},
   "outputs": [
    {
     "name": "stdout",
     "output_type": "stream",
     "text": [
      "[1, 4, 9, 25, 64]\n"
     ]
    }
   ],
   "source": [
    "def square_list(numbers):\n",
    "    return[x**2 for x in numbers]\n",
    "list=[1,2,3,5,8]\n",
    "result= square_list(list)\n",
    "print(result)"
   ]
  },
  {
   "cell_type": "code",
   "execution_count": 29,
   "metadata": {},
   "outputs": [
    {
     "name": "stdout",
     "output_type": "stream",
     "text": [
      "[25, 36, 81, 64]\n"
     ]
    }
   ],
   "source": [
    "def square_list(numbers):\n",
    "    return[s**2 for s in numbers]\n",
    "input_list=[5,6,9,8]\n",
    "result=square_list(input_list)\n",
    "print(result)"
   ]
  },
  {
   "cell_type": "code",
   "execution_count": 36,
   "metadata": {},
   "outputs": [
    {
     "name": "stdout",
     "output_type": "stream",
     "text": [
      "1is prime: False\n",
      "2is prime: True\n",
      "3is prime: True\n",
      "4is prime: False\n",
      "5is prime: True\n",
      "6is prime: False\n",
      "7is prime: True\n",
      "8is prime: False\n",
      "9is prime: False\n",
      "10is prime: False\n",
      "11is prime: True\n",
      "12is prime: False\n",
      "13is prime: True\n",
      "14is prime: False\n",
      "15is prime: False\n",
      "16is prime: False\n",
      "17is prime: True\n",
      "18is prime: False\n",
      "19is prime: True\n",
      "20is prime: False\n",
      "21is prime: False\n",
      "22is prime: False\n",
      "23is prime: True\n",
      "24is prime: False\n",
      "25is prime: False\n",
      "26is prime: False\n",
      "27is prime: False\n",
      "28is prime: False\n",
      "29is prime: True\n",
      "30is prime: False\n",
      "31is prime: True\n",
      "32is prime: False\n",
      "33is prime: False\n",
      "34is prime: False\n",
      "35is prime: False\n",
      "36is prime: False\n",
      "37is prime: True\n",
      "38is prime: False\n",
      "39is prime: False\n",
      "40is prime: False\n",
      "41is prime: True\n",
      "42is prime: False\n",
      "43is prime: True\n",
      "44is prime: False\n",
      "45is prime: False\n",
      "46is prime: False\n",
      "47is prime: True\n",
      "48is prime: False\n",
      "49is prime: False\n",
      "50is prime: False\n",
      "51is prime: False\n",
      "52is prime: False\n",
      "53is prime: True\n",
      "54is prime: False\n",
      "55is prime: False\n",
      "56is prime: False\n",
      "57is prime: False\n",
      "58is prime: False\n",
      "59is prime: True\n",
      "60is prime: False\n",
      "61is prime: True\n",
      "62is prime: False\n",
      "63is prime: False\n",
      "64is prime: False\n",
      "65is prime: False\n",
      "66is prime: False\n",
      "67is prime: True\n",
      "68is prime: False\n",
      "69is prime: False\n",
      "70is prime: False\n",
      "71is prime: True\n",
      "72is prime: False\n",
      "73is prime: True\n",
      "74is prime: False\n",
      "75is prime: False\n",
      "76is prime: False\n",
      "77is prime: False\n",
      "78is prime: False\n",
      "79is prime: True\n",
      "80is prime: False\n",
      "81is prime: False\n",
      "82is prime: False\n",
      "83is prime: True\n",
      "84is prime: False\n",
      "85is prime: False\n",
      "86is prime: False\n",
      "87is prime: False\n",
      "88is prime: False\n",
      "89is prime: True\n",
      "90is prime: False\n",
      "91is prime: False\n",
      "92is prime: False\n",
      "93is prime: False\n",
      "94is prime: False\n",
      "95is prime: False\n",
      "96is prime: False\n",
      "97is prime: True\n",
      "98is prime: False\n",
      "99is prime: False\n",
      "100is prime: False\n",
      "101is prime: True\n",
      "102is prime: False\n",
      "103is prime: True\n",
      "104is prime: False\n",
      "105is prime: False\n",
      "106is prime: False\n",
      "107is prime: True\n",
      "108is prime: False\n",
      "109is prime: True\n",
      "110is prime: False\n",
      "111is prime: False\n",
      "112is prime: False\n",
      "113is prime: True\n",
      "114is prime: False\n",
      "115is prime: False\n",
      "116is prime: False\n",
      "117is prime: False\n",
      "118is prime: False\n",
      "119is prime: False\n",
      "120is prime: False\n",
      "121is prime: False\n",
      "122is prime: False\n",
      "123is prime: False\n",
      "124is prime: False\n",
      "125is prime: False\n",
      "126is prime: False\n",
      "127is prime: True\n",
      "128is prime: False\n",
      "129is prime: False\n",
      "130is prime: False\n",
      "131is prime: True\n",
      "132is prime: False\n",
      "133is prime: False\n",
      "134is prime: False\n",
      "135is prime: False\n",
      "136is prime: False\n",
      "137is prime: True\n",
      "138is prime: False\n",
      "139is prime: True\n",
      "140is prime: False\n",
      "141is prime: False\n",
      "142is prime: False\n",
      "143is prime: False\n",
      "144is prime: False\n",
      "145is prime: False\n",
      "146is prime: False\n",
      "147is prime: False\n",
      "148is prime: False\n",
      "149is prime: True\n",
      "150is prime: False\n",
      "151is prime: True\n",
      "152is prime: False\n",
      "153is prime: False\n",
      "154is prime: False\n",
      "155is prime: False\n",
      "156is prime: False\n",
      "157is prime: True\n",
      "158is prime: False\n",
      "159is prime: False\n",
      "160is prime: False\n",
      "161is prime: False\n",
      "162is prime: False\n",
      "163is prime: True\n",
      "164is prime: False\n",
      "165is prime: False\n",
      "166is prime: False\n",
      "167is prime: True\n",
      "168is prime: False\n",
      "169is prime: False\n",
      "170is prime: False\n",
      "171is prime: False\n",
      "172is prime: False\n",
      "173is prime: True\n",
      "174is prime: False\n",
      "175is prime: False\n",
      "176is prime: False\n",
      "177is prime: False\n",
      "178is prime: False\n",
      "179is prime: True\n",
      "180is prime: False\n",
      "181is prime: True\n",
      "182is prime: False\n",
      "183is prime: False\n",
      "184is prime: False\n",
      "185is prime: False\n",
      "186is prime: False\n",
      "187is prime: False\n",
      "188is prime: False\n",
      "189is prime: False\n",
      "190is prime: False\n",
      "191is prime: True\n",
      "192is prime: False\n",
      "193is prime: True\n",
      "194is prime: False\n",
      "195is prime: False\n",
      "196is prime: False\n",
      "197is prime: True\n",
      "198is prime: False\n",
      "199is prime: True\n",
      "200is prime: False\n"
     ]
    }
   ],
   "source": [
    "#Q.4 Write a Python function that checks if a given number is prime or not from 1 to 200.\n",
    "\n",
    "\n",
    "def prime_numbers(n):\n",
    "    if n<=1:\n",
    "        return False\n",
    "    if n<=3:\n",
    "        return True \n",
    "    if n%2==0 or n%3==0:\n",
    "        return False\n",
    "    i=5\n",
    "    while i*i <=n:\n",
    "        if n%i==0 or n%(i+2)==0:\n",
    "            return False \n",
    "        i+=6\n",
    "    return True\n",
    "for num in range(1,201):\n",
    "    print (f\"{num}is prime: {prime_numbers(num)}\")\n"
   ]
  },
  {
   "cell_type": "code",
   "execution_count": 37,
   "metadata": {},
   "outputs": [],
   "source": [
    "# Q.5 Create an iterator class in Python that generates the Fibonacci sequence up to a specified number of terms.\n"
   ]
  },
  {
   "cell_type": "code",
   "execution_count": 41,
   "metadata": {},
   "outputs": [],
   "source": [
    "def fib(n):\n",
    "    a = 0 \n",
    "    b = 1\n",
    "    for i in range(n): #if n=5, 0, 1, 2, 3, 4\n",
    "        yield a\n",
    "        a, b = b, a+b\n",
    "        \n",
    "    "
   ]
  },
  {
   "cell_type": "code",
   "execution_count": 42,
   "metadata": {},
   "outputs": [
    {
     "data": {
      "text/plain": [
       "<generator object fib at 0x00000212324E97E0>"
      ]
     },
     "execution_count": 42,
     "metadata": {},
     "output_type": "execute_result"
    }
   ],
   "source": [
    "f= fib(5)\n",
    "f"
   ]
  },
  {
   "cell_type": "code",
   "execution_count": 43,
   "metadata": {},
   "outputs": [
    {
     "data": {
      "text/plain": [
       "0"
      ]
     },
     "execution_count": 43,
     "metadata": {},
     "output_type": "execute_result"
    }
   ],
   "source": [
    "next(f)"
   ]
  },
  {
   "cell_type": "code",
   "execution_count": 44,
   "metadata": {},
   "outputs": [
    {
     "data": {
      "text/plain": [
       "1"
      ]
     },
     "execution_count": 44,
     "metadata": {},
     "output_type": "execute_result"
    }
   ],
   "source": [
    "next(f)"
   ]
  },
  {
   "cell_type": "code",
   "execution_count": 45,
   "metadata": {},
   "outputs": [
    {
     "data": {
      "text/plain": [
       "1"
      ]
     },
     "execution_count": 45,
     "metadata": {},
     "output_type": "execute_result"
    }
   ],
   "source": [
    "next (f)"
   ]
  },
  {
   "cell_type": "code",
   "execution_count": 46,
   "metadata": {},
   "outputs": [
    {
     "data": {
      "text/plain": [
       "2"
      ]
     },
     "execution_count": 46,
     "metadata": {},
     "output_type": "execute_result"
    }
   ],
   "source": [
    "next(f)"
   ]
  },
  {
   "cell_type": "code",
   "execution_count": 47,
   "metadata": {},
   "outputs": [
    {
     "data": {
      "text/plain": [
       "3"
      ]
     },
     "execution_count": 47,
     "metadata": {},
     "output_type": "execute_result"
    }
   ],
   "source": [
    "next(f)"
   ]
  },
  {
   "cell_type": "code",
   "execution_count": 48,
   "metadata": {},
   "outputs": [
    {
     "ename": "StopIteration",
     "evalue": "",
     "output_type": "error",
     "traceback": [
      "\u001b[1;31m---------------------------------------------------------------------------\u001b[0m",
      "\u001b[1;31mStopIteration\u001b[0m                             Traceback (most recent call last)",
      "\u001b[1;32mc:\\Users\\HP\\Downloads\\Functions assignment(Practical).ipynb Cell 21\u001b[0m line \u001b[0;36m1\n\u001b[1;32m----> <a href='vscode-notebook-cell:/c%3A/Users/HP/Downloads/Functions%20assignment%28Practical%29.ipynb#X30sZmlsZQ%3D%3D?line=0'>1</a>\u001b[0m \u001b[39mnext\u001b[39;49m(f)\n",
      "\u001b[1;31mStopIteration\u001b[0m: "
     ]
    }
   ],
   "source": [
    "next(f)"
   ]
  },
  {
   "cell_type": "code",
   "execution_count": 56,
   "metadata": {},
   "outputs": [],
   "source": [
    "def fbn(s):\n",
    "    a=0\n",
    "    b=1\n",
    "    for i in range (s):\n",
    "        yield a\n",
    "        a,b = b,a+b"
   ]
  },
  {
   "cell_type": "code",
   "execution_count": 59,
   "metadata": {},
   "outputs": [
    {
     "data": {
      "text/plain": [
       "<generator object fib at 0x00000212324EAB20>"
      ]
     },
     "execution_count": 59,
     "metadata": {},
     "output_type": "execute_result"
    }
   ],
   "source": [
    "f= fib(10)\n",
    "f"
   ]
  },
  {
   "cell_type": "code",
   "execution_count": 60,
   "metadata": {},
   "outputs": [
    {
     "data": {
      "text/plain": [
       "0"
      ]
     },
     "execution_count": 60,
     "metadata": {},
     "output_type": "execute_result"
    }
   ],
   "source": [
    "next(f)"
   ]
  },
  {
   "cell_type": "code",
   "execution_count": 62,
   "metadata": {},
   "outputs": [
    {
     "data": {
      "text/plain": [
       "1"
      ]
     },
     "execution_count": 62,
     "metadata": {},
     "output_type": "execute_result"
    }
   ],
   "source": [
    "next(f)"
   ]
  },
  {
   "cell_type": "code",
   "execution_count": 63,
   "metadata": {},
   "outputs": [],
   "source": [
    "#Q.6 Write a generator function in Python that yields the powers of 2 up to a given exponent."
   ]
  },
  {
   "cell_type": "code",
   "execution_count": 64,
   "metadata": {},
   "outputs": [],
   "source": [
    "def square_number(n):\n",
    "    for i in range (n):\n",
    "        yield i**2"
   ]
  },
  {
   "cell_type": "code",
   "execution_count": 67,
   "metadata": {},
   "outputs": [
    {
     "data": {
      "text/plain": [
       "<generator object square_number at 0x00000212324FD220>"
      ]
     },
     "execution_count": 67,
     "metadata": {},
     "output_type": "execute_result"
    }
   ],
   "source": [
    "square_number(10)"
   ]
  },
  {
   "cell_type": "code",
   "execution_count": 69,
   "metadata": {},
   "outputs": [],
   "source": [
    "gen= square_number(10)\n"
   ]
  },
  {
   "cell_type": "code",
   "execution_count": 70,
   "metadata": {},
   "outputs": [
    {
     "data": {
      "text/plain": [
       "0"
      ]
     },
     "execution_count": 70,
     "metadata": {},
     "output_type": "execute_result"
    }
   ],
   "source": [
    "next(gen)"
   ]
  },
  {
   "cell_type": "code",
   "execution_count": 71,
   "metadata": {},
   "outputs": [
    {
     "data": {
      "text/plain": [
       "1"
      ]
     },
     "execution_count": 71,
     "metadata": {},
     "output_type": "execute_result"
    }
   ],
   "source": [
    "next(gen)"
   ]
  },
  {
   "cell_type": "code",
   "execution_count": 72,
   "metadata": {},
   "outputs": [
    {
     "data": {
      "text/plain": [
       "4"
      ]
     },
     "execution_count": 72,
     "metadata": {},
     "output_type": "execute_result"
    }
   ],
   "source": [
    "next(gen)"
   ]
  },
  {
   "cell_type": "code",
   "execution_count": 76,
   "metadata": {},
   "outputs": [],
   "source": [
    "def square (n):\n",
    "    for i in range(5,10):\n",
    "        yield i**2"
   ]
  },
  {
   "cell_type": "code",
   "execution_count": 78,
   "metadata": {},
   "outputs": [],
   "source": [
    "n = square(10)"
   ]
  },
  {
   "cell_type": "code",
   "execution_count": 80,
   "metadata": {},
   "outputs": [
    {
     "data": {
      "text/plain": [
       "25"
      ]
     },
     "execution_count": 80,
     "metadata": {},
     "output_type": "execute_result"
    }
   ],
   "source": [
    "next(n)"
   ]
  },
  {
   "cell_type": "code",
   "execution_count": 81,
   "metadata": {},
   "outputs": [],
   "source": [
    "# Q.7. Implement a generator function that reads a file line by line and yields each line as a string."
   ]
  },
  {
   "cell_type": "code",
   "execution_count": 82,
   "metadata": {},
   "outputs": [],
   "source": [
    "def read_file_line_by_line(file_path):\n",
    "    with open(file_path, 'r') as file:\n",
    "        for line in file:\n",
    "            yield line.strip()"
   ]
  },
  {
   "cell_type": "code",
   "execution_count": 85,
   "metadata": {},
   "outputs": [],
   "source": [
    "# Q8.Use a lambda function in Python to sort a list of tuples based on the second element of each tuple."
   ]
  },
  {
   "cell_type": "code",
   "execution_count": 86,
   "metadata": {},
   "outputs": [
    {
     "name": "stdout",
     "output_type": "stream",
     "text": [
      "[(2, 1), (3, 2), (1, 3), (4, 5)]\n"
     ]
    }
   ],
   "source": [
    "tuples_list = [(1, 3), (2, 1), (4, 5), (3, 2)]\n",
    "\n",
    "# Sort the list of tuples based on the second element of each tuple\n",
    "sorted_list = sorted(tuples_list, key=lambda x: x[1])\n",
    "\n",
    "print(sorted_list)"
   ]
  },
  {
   "cell_type": "code",
   "execution_count": 91,
   "metadata": {},
   "outputs": [
    {
     "name": "stdout",
     "output_type": "stream",
     "text": [
      "[(5, 6), (9, 10), (3, 11)]\n"
     ]
    }
   ],
   "source": [
    "l=[(3,11), (5,6),(9,10)]\n",
    "sorted_list= sorted(l, key =lambda x:x[1])\n",
    "print(sorted_list)\n",
    "\n"
   ]
  },
  {
   "cell_type": "code",
   "execution_count": 93,
   "metadata": {},
   "outputs": [],
   "source": [
    "#Q.9 Write a Python program that uses `map()` to convert a list of temperatures from Celsius to Fahrenheit.\n"
   ]
  },
  {
   "cell_type": "code",
   "execution_count": 100,
   "metadata": {},
   "outputs": [
    {
     "name": "stdout",
     "output_type": "stream",
     "text": [
      "Temperatures in Fahrenheit: <map object at 0x0000021232193490>\n"
     ]
    }
   ],
   "source": [
    "def celsius_to_fahrenheit(celsius):\n",
    "    return (celsius * 9/5) + 32\n",
    "\n",
    "# List of temperatures in Celsius\n",
    "celsius_temperatures = [0, 20, 37, 100]\n",
    "\n",
    "# Use map() to convert each temperature to Fahrenheit\n",
    "fahrenheit_temperatures = (map(celsius_to_fahrenheit, celsius_temperatures))\n",
    "\n",
    "# Print the converted temperatures\n",
    "print(f\"Temperatures in Fahrenheit: {fahrenheit_temperatures}\")"
   ]
  },
  {
   "cell_type": "code",
   "execution_count": 104,
   "metadata": {},
   "outputs": [],
   "source": [
    "#Q.10 Create a Python program that uses `filter()` to remove all the vowels from a given string."
   ]
  },
  {
   "cell_type": "code",
   "execution_count": 105,
   "metadata": {},
   "outputs": [
    {
     "name": "stdout",
     "output_type": "stream",
     "text": [
      "String without vowels: Hll, Wrld!\n"
     ]
    }
   ],
   "source": [
    "def is_not_vowel(char):\n",
    "    return char.lower() not in 'aeiou'\n",
    "input_string = \"Hello, World!\"\n",
    "filtered_string = ''.join(filter(is_not_vowel, input_string))\n",
    "print(f\"String without vowels: {filtered_string}\")"
   ]
  },
  {
   "cell_type": "code",
   "execution_count": 106,
   "metadata": {},
   "outputs": [],
   "source": []
  },
  {
   "cell_type": "code",
   "execution_count": null,
   "metadata": {},
   "outputs": [],
   "source": [
    "\n"
   ]
  }
 ],
 "metadata": {
  "language_info": {
   "name": "python"
  }
 },
 "nbformat": 4,
 "nbformat_minor": 2
}
